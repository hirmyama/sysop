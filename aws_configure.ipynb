{
 "cells": [
  {
   "cell_type": "code",
   "execution_count": null,
   "metadata": {},
   "outputs": [],
   "source": [
    "# 現在の設定値の確認\n",
    "aws configure list"
   ]
  },
  {
   "cell_type": "code",
   "execution_count": null,
   "metadata": {},
   "outputs": [],
   "source": [
    "# 下記 xxxxにはアクセスキーID、yyyy にはシークレットアクセスキーを貼り付け\n",
    "\n",
    "aws configure set aws_access_key_id xxxx\n",
    "aws configure set aws_secret_access_key yyyy\n",
    "aws configure set region ap-northeast-1\n",
    "aws configure set output json"
   ]
  },
  {
   "cell_type": "code",
   "execution_count": null,
   "metadata": {},
   "outputs": [],
   "source": [
    "# 現在の設定値を再度、確認\n",
    "aws configure list"
   ]
  },
  {
   "cell_type": "code",
   "execution_count": null,
   "metadata": {},
   "outputs": [],
   "source": [
    "# 上記設定により作成される設定ファイルを確認\n",
    "ls -a ~/.aws"
   ]
  },
  {
   "cell_type": "code",
   "execution_count": null,
   "metadata": {},
   "outputs": [],
   "source": [
    "# 設定ファイルの内容を確認\n",
    "cat ~/.aws/credentials"
   ]
  },
  {
   "cell_type": "code",
   "execution_count": null,
   "metadata": {},
   "outputs": [],
   "source": [
    "# 設定ファイルの内容を確認\n",
    "cat ~/.aws/config"
   ]
  }
 ],
 "metadata": {
  "kernelspec": {
   "display_name": "Bash",
   "language": "bash",
   "name": "bash"
  },
  "language_info": {
   "codemirror_mode": "shell",
   "file_extension": ".sh",
   "mimetype": "text/x-sh",
   "name": "bash"
  }
 },
 "nbformat": 4,
 "nbformat_minor": 2
}
